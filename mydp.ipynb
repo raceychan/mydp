{
 "metadata": {
  "language_info": {
   "codemirror_mode": {
    "name": "ipython",
    "version": 3
   },
   "file_extension": ".py",
   "mimetype": "text/x-python",
   "name": "python",
   "nbconvert_exporter": "python",
   "pygments_lexer": "ipython3",
   "version": "3.9.5"
  },
  "orig_nbformat": 4,
  "kernelspec": {
   "name": "python3",
   "display_name": "Python 3.9.5 64-bit ('myproject': conda)"
  },
  "interpreter": {
   "hash": "711d638dc81ad380ef3faab84cfb82be1972776b579f1de4fd8d8727be6485d3"
  }
 },
 "nbformat": 4,
 "nbformat_minor": 2,
 "cells": [
  {
   "cell_type": "code",
   "execution_count": null,
   "metadata": {},
   "outputs": [],
   "source": [
    "'''\n",
    "what a decorator does is replacement, thus \n",
    "when a function is decorated by a class, \n",
    "its type becomes an instance of a class\n",
    "and by access its instance attribute we are \n",
    "accessing the attribute of the decorator class\n",
    "'''\n",
    "class Mycache:\n",
    "    name = 'race'\n",
    "    def __init__(self, func):\n",
    "        self.func = func\n",
    "        self.cache = {}\n",
    "    \n",
    "    def __call__(self, *args):\n",
    "        if not args in self.cache:\n",
    "            self.cache[args] = self.func(*args)\n",
    "        return self.cache[args]\n",
    "@Mycache\n",
    "def fib(n):\n",
    "    return fib(n-1) + fib(n-2) if n>1 else 1\n",
    "print(type(fib))\n",
    "print(fib.name)"
   ]
  },
  {
   "cell_type": "code",
   "execution_count": 25,
   "metadata": {},
   "outputs": [],
   "source": [
    "import inspect\n",
    "from typing import Union,Optional,Dict,Any,Callable\n",
    "from functools import wraps, update_wrapper, partial\n",
    "from core.config import settings\n",
    "from core.manager import manager\n",
    "\n",
    "'''\n",
    "put @Publish(subscriber=subscriber) above a class would make it a publisher class \n",
    "which enables it to monitor what it sent to the msg-center class and send messages to subscribers\n",
    "\n",
    "put @Publish.register(event = event) above a method inside the class would sign the function up \n",
    "with the event\n",
    "'''\n",
    "\n",
    "\n",
    "class Publisher:\n",
    "    def __init__(self, subscriber = manager, events = settings.EVENTS):\n",
    "        # if cls and  not inspect.isclass(cls):\n",
    "        #     raise TypeError('Publisher needs to be a class')\n",
    "        self.subscriber = subscriber\n",
    "        self.events = events\n",
    "\n",
    "    def __call__(self, cls=None):\n",
    "        self.cls = cls\n",
    "        self.channel = {event: dict() for event in self.events}\n",
    "        for event in self.channel:\n",
    "            self.channel[event]['subscriber'] = self.subscriber\n",
    "\n",
    "        update_wrapper(self, cls)\n",
    "        def wrapper(*args, **kwargs):\n",
    "            value = cls(*args, **kwargs)\n",
    "            return value\n",
    "        return wrapper\n",
    "\n",
    "    @classmethod\n",
    "    def register(self, event=None, subscriber=None):\n",
    "        self.channel[event]['subscriber'] = subscriber or self.subscriber\n",
    "        \n",
    "    # class register(Publisher):\n",
    "    #     def __init__(self, func=None,*,event:str=None):\n",
    "    #         print(super().get_channel())\n",
    "    #         self.func = func\n",
    "    #         update_wrapper(self, func)\n",
    "\n",
    "    #     def __call__(self, *args, **kwargs):\n",
    "    #         return self.func(*args,**kwargs)\n",
    "\n",
    "    #     def __get__(self, instance, owner):\n",
    "    #         return partial(self.__call__, instance)\n",
    "\n",
    "\n",
    "@Publisher(subscriber=manager)\n",
    "class Sales:\n",
    "    def __init__(self, events=None, **kwargs: Dict[str, Any]):\n",
    "        self.sto_data = pd.DataFrame()\n",
    "\n",
    "    def sales_sql(self, country: str):\n",
    "        _sales_sql = f'''country:{country}\n",
    "                      '''\n",
    "        return _sales_sql\n",
    "\n",
    "sales = Sales()"
   ]
  },
  {
   "cell_type": "code",
   "execution_count": 58,
   "metadata": {},
   "outputs": [],
   "source": [
    "class Decorator(object):\n",
    "    def __init__(self, arg):\n",
    "        self.arg = arg\n",
    "    def __call__(self, cls):\n",
    "        class Wrapped(cls):\n",
    "            classattr = self.arg\n",
    "\n",
    "            def new_method(self, value):\n",
    "                return value * 2\n",
    "        return Wrapped\n",
    "\n",
    "@Decorator(\"decorated class\")\n",
    "class TestClass(object):\n",
    "    name:str = 'race'\n",
    "    def __init__(self, at):\n",
    "        self.at = at\n",
    "    def new_method(self, value):\n",
    "        return value * 3"
   ]
  },
  {
   "cell_type": "code",
   "execution_count": 68,
   "metadata": {},
   "outputs": [],
   "source": [
    "import pika\n",
    "from core.config import settings\n",
    "cp = settings.RABBITMQ_CONNECTION_PARAMETER\n",
    "con = pika.BlockingConnection(cp)\n",
    "channel = con.channel()\n",
    "\n",
    "\n",
    "\n",
    "class Broker:\n",
    "    def __init__(self):\n",
    "        self.msg_queue = []\n",
    "        self.subscribers = {}\n",
    "\n",
    "#self.msg_queue = {'topic':[]}\n",
    "#self.subscribers = {'topic':'subscriber'}\n",
    "\n",
    "    def notify(self, msg):\n",
    "        self.msg_queue.append(msg)\n",
    "\n",
    "    def subscribe(self, msg, subscriber):\n",
    "        self.subscribers.setdefault(msg, []).append(subscriber)\n",
    "\n",
    "    def unsubscribe(self, msg, subscriber):\n",
    "        self.subscribers[msg].remove(subscriber)\n",
    "\n",
    "    def update(self):\n",
    "        for msg in self.msg_queue:\n",
    "            for sub in self.subscribers.get(msg, []):\n",
    "                sub.run(msg)\n",
    "        self.msg_queue = []\n",
    "\n",
    "\n",
    "class Publisher:\n",
    "    def __init__(self, broker):\n",
    "        self.broker = broker\n",
    "\n",
    "    def publish(self, msg):\n",
    "        self.broker.notify(msg)\n",
    "\n",
    "\n",
    "class Subscriber:\n",
    "    def __init__(self, name, broker):\n",
    "        self.name = name\n",
    "        self.broker = broker\n",
    "\n",
    "    def subscribe(self, msg):\n",
    "        self.broker.subscribe(msg, self)\n",
    "\n",
    "    def unsubscribe(self, msg):\n",
    "        self.broker.unsubscribe(msg, self)\n",
    "\n",
    "    def run(self, msg):\n",
    "        print(f\"{self.name} got {msg}\")\n"
   ]
  },
  {
   "cell_type": "code",
   "execution_count": 1,
   "metadata": {},
   "outputs": [],
   "source": [
    "from core.broker import broker, Publisher, Subscriber"
   ]
  },
  {
   "cell_type": "code",
   "execution_count": 4,
   "metadata": {},
   "outputs": [],
   "source": [
    "pub = Publisher(event='main')\n",
    "pub.publish(method='sql_update',event='main',body='update_finished')"
   ]
  },
  {
   "cell_type": "code",
   "execution_count": 7,
   "metadata": {},
   "outputs": [],
   "source": [
    "pub.publish(method='sql_update',event='main',body='123')"
   ]
  },
  {
   "cell_type": "code",
   "execution_count": 2,
   "metadata": {},
   "outputs": [
    {
     "output_type": "execute_result",
     "data": {
      "text/plain": [
       "'0x231c4a45910'"
      ]
     },
     "metadata": {},
     "execution_count": 2
    }
   ],
   "source": [
    "hex(id(broker.channel))"
   ]
  },
  {
   "cell_type": "code",
   "execution_count": 3,
   "metadata": {},
   "outputs": [
    {
     "output_type": "execute_result",
     "data": {
      "text/plain": [
       "'0x231b7fd4d30'"
      ]
     },
     "metadata": {},
     "execution_count": 3
    }
   ],
   "source": [
    "hex(id(broker))"
   ]
  },
  {
   "cell_type": "code",
   "execution_count": 9,
   "metadata": {},
   "outputs": [],
   "source": [
    "from core.publisher import Publisher"
   ]
  },
  {
   "cell_type": "code",
   "execution_count": 10,
   "metadata": {},
   "outputs": [],
   "source": [
    "pub = Publisher()"
   ]
  },
  {
   "cell_type": "code",
   "execution_count": 14,
   "metadata": {},
   "outputs": [
    {
     "output_type": "stream",
     "name": "stdout",
     "text": [
      "sent message: \"200\" \n                to queue: main \n                with topic: <BasicProperties(['content_type=sql_update'])>\n"
     ]
    }
   ],
   "source": [
    "pub.publish(body='200')"
   ]
  },
  {
   "cell_type": "code",
   "execution_count": null,
   "metadata": {},
   "outputs": [],
   "source": []
  }
 ]
}